{
 "cells": [
  {
   "cell_type": "code",
   "execution_count": 83,
   "id": "c9b78407",
   "metadata": {},
   "outputs": [],
   "source": [
    "from math import ceil\n",
    "\n",
    "import torch\n",
    "from torch import nn\n",
    "from torch.nn import functional as F\n",
    "from torch.distributions.categorical import Categorical\n",
    "\n",
    "device = \"cpu\""
   ]
  },
  {
   "cell_type": "code",
   "execution_count": 84,
   "id": "5cf1de4e",
   "metadata": {},
   "outputs": [],
   "source": [
    "def vectors_to_demo(uu, vv, ww, device):\n",
    "    mul_tensor = torch.zeros((4, 4, 4), device=device)\n",
    "    for i in torch.arange(uu.shape[0]):\n",
    "        mul_tensor += torch.einsum(\"p,qr->pqr\", uu[i], torch.outer(vv[i], ww[i]))\n",
    "    # convert to steps/actions\n",
    "    steps_wide = torch.cat((uu, vv, ww), dim=1)\n",
    "    steps_wide += 1\n",
    "    return mul_tensor, steps_wide\n",
    "\n",
    "\n",
    "def steps_wide_to_uvw(steps_wide, n=4):\n",
    "    uu, vv, ww = torch.split(steps_wide, n, dim=1)\n",
    "    return uu, vv, ww\n",
    "\n",
    "\n",
    "def get_strassen(device: str):\n",
    "    uu_strassen = torch.tensor(\n",
    "        [\n",
    "            [1, 0, 0, 1],\n",
    "            [0, 0, 1, 1],\n",
    "            [1, 0, 0, 0],\n",
    "            [0, 0, 0, 1],\n",
    "            [1, 1, 0, 0],\n",
    "            [-1, 0, 1, 0],\n",
    "            [0, 1, 0, -1],\n",
    "        ],\n",
    "        device=device,\n",
    "    )\n",
    "    vv_strassen = torch.tensor(\n",
    "        [\n",
    "            [1, 0, 0, 1],\n",
    "            [1, 0, 0, 0],\n",
    "            [0, 1, 0, -1],\n",
    "            [-1, 0, 1, 0],\n",
    "            [0, 0, 0, 1],\n",
    "            [1, 1, 0, 0],\n",
    "            [0, 0, 1, 1],\n",
    "        ],\n",
    "        device=device,\n",
    "    )\n",
    "    ww_strassen = torch.tensor(\n",
    "        [\n",
    "            [1, 0, 0, 1],\n",
    "            [0, 0, 1, -1],\n",
    "            [0, 1, 0, 1],\n",
    "            [1, 0, 1, 0],\n",
    "            [-1, 1, 0, 0],\n",
    "            [0, 0, 0, 1],\n",
    "            [1, 0, 0, 0],\n",
    "        ],\n",
    "        device=device,\n",
    "    )\n",
    "    return vectors_to_demo(uu_strassen, vv_strassen, ww_strassen, device)\n",
    "\n",
    "\n",
    "# strassen_tensor, strassen_steps = vectors_to_demo(uu_strassen, vv_strassen, ww_strassen)\n"
   ]
  },
  {
   "cell_type": "code",
   "execution_count": 85,
   "id": "0aef9113",
   "metadata": {},
   "outputs": [],
   "source": [
    "uu_strassen = torch.tensor(\n",
    "    [\n",
    "        [1, 0, 0, 1],\n",
    "        [0, 0, 1, 1],\n",
    "        [1, 0, 0, 0],\n",
    "        [0, 0, 0, 1],\n",
    "        [1, 1, 0, 0],\n",
    "        [-1, 0, 1, 0],\n",
    "        [0, 1, 0, -1],\n",
    "    ],\n",
    "    device=device,\n",
    ")\n",
    "vv_strassen = torch.tensor(\n",
    "    [\n",
    "        [1, 0, 0, 1],\n",
    "        [1, 0, 0, 0],\n",
    "        [0, 1, 0, -1],\n",
    "        [-1, 0, 1, 0],\n",
    "        [0, 0, 0, 1],\n",
    "        [1, 1, 0, 0],\n",
    "        [0, 0, 1, 1],\n",
    "    ],\n",
    "    device=device,\n",
    ")\n",
    "ww_strassen = torch.tensor(\n",
    "    [\n",
    "        [1, 0, 0, 1],\n",
    "        [0, 0, 1, -1],\n",
    "        [0, 1, 0, 1],\n",
    "        [1, 0, 1, 0],\n",
    "        [-1, 1, 0, 0],\n",
    "        [0, 0, 0, 1],\n",
    "        [1, 0, 0, 0],\n",
    "    ],\n",
    "    device=device,\n",
    ")"
   ]
  },
  {
   "cell_type": "code",
   "execution_count": 90,
   "id": "15fe3dc2",
   "metadata": {},
   "outputs": [],
   "source": [
    "strassen_tensor, strassen_steps = vectors_to_demo(uu_strassen, vv_strassen, ww_strassen, device)"
   ]
  },
  {
   "cell_type": "code",
   "execution_count": 91,
   "id": "275a68b0",
   "metadata": {
    "collapsed": true
   },
   "outputs": [
    {
     "data": {
      "text/plain": [
       "tensor([[2, 1, 1, 2, 2, 1, 1, 2, 2, 1, 1, 2],\n",
       "        [1, 1, 2, 2, 2, 1, 1, 1, 1, 1, 2, 0],\n",
       "        [2, 1, 1, 1, 1, 2, 1, 0, 1, 2, 1, 2],\n",
       "        [1, 1, 1, 2, 0, 1, 2, 1, 2, 1, 2, 1],\n",
       "        [2, 2, 1, 1, 1, 1, 1, 2, 0, 2, 1, 1],\n",
       "        [0, 1, 2, 1, 2, 2, 1, 1, 1, 1, 1, 2],\n",
       "        [1, 2, 1, 0, 1, 1, 2, 2, 2, 1, 1, 1]])"
      ]
     },
     "execution_count": 91,
     "metadata": {},
     "output_type": "execute_result"
    }
   ],
   "source": [
    "strassen_steps"
   ]
  },
  {
   "cell_type": "code",
   "execution_count": 92,
   "id": "d8ea3a06",
   "metadata": {
    "collapsed": true
   },
   "outputs": [
    {
     "data": {
      "text/plain": [
       "tensor([[[1., 0., 0., 0.],\n",
       "         [0., 1., 0., 0.],\n",
       "         [0., 0., 0., 0.],\n",
       "         [0., 0., 0., 0.]],\n",
       "\n",
       "        [[0., 0., 0., 0.],\n",
       "         [0., 0., 0., 0.],\n",
       "         [1., 0., 0., 0.],\n",
       "         [0., 1., 0., 0.]],\n",
       "\n",
       "        [[0., 0., 1., 0.],\n",
       "         [0., 0., 0., 1.],\n",
       "         [0., 0., 0., 0.],\n",
       "         [0., 0., 0., 0.]],\n",
       "\n",
       "        [[0., 0., 0., 0.],\n",
       "         [0., 0., 0., 0.],\n",
       "         [0., 0., 1., 0.],\n",
       "         [0., 0., 0., 1.]]])"
      ]
     },
     "execution_count": 92,
     "metadata": {},
     "output_type": "execute_result"
    }
   ],
   "source": [
    "strassen_tensor"
   ]
  },
  {
   "cell_type": "code",
   "execution_count": 35,
   "id": "78ad3ffd",
   "metadata": {},
   "outputs": [
    {
     "name": "stdout",
     "output_type": "stream",
     "text": [
      "1100111\n"
     ]
    }
   ],
   "source": [
    "i_bits = 103\n",
    "bitstring = format(i_bits, \"b\").zfill(7)\n",
    "print(bitstring)\n",
    "used_indexes = [i for i in range(7) if bitstring[i]=='1']\n",
    "avail_indexes = [i for i in range(7) if bitstring[i]=='0']\n",
    "n_used = len(used_indexes)\n",
    "n_avail = len(avail_indexes)\n",
    "target_tensor = strassen_tensor    \n"
   ]
  },
  {
   "cell_type": "code",
   "execution_count": 123,
   "id": "dc933651",
   "metadata": {},
   "outputs": [],
   "source": [
    "n_demos = 0\n",
    "state_tensor = []\n",
    "target_action = []\n",
    "reward = []\n",
    "scalar = []\n",
    "bit_info = []\n",
    "for i_bits in range(2**7):\n",
    "    bitstring = format(i_bits, \"b\").zfill(7)\n",
    "    used_indexes = [i for i in range(7) if bitstring[i]=='1']\n",
    "    avail_indexes = [i for i in range(7) if bitstring[i]=='0']\n",
    "    n_used = len(used_indexes)\n",
    "    n_avail = len(avail_indexes)\n",
    "    target_tensor = strassen_tensor.clone()    \n",
    "    for j in used_indexes:\n",
    "        target_tensor -= (\n",
    "            uu_strassen[j].view(-1, 1, 1) * vv_strassen[j].view(1, -1, 1) * ww_strassen[j].view(1, 1, -1)\n",
    "        )\n",
    "\n",
    "    for k in avail_indexes:\n",
    "        state_tensor.append(target_tensor)\n",
    "        target_action.append(torch.cat((uu_strassen[k], vv_strassen[k], ww_strassen[k])))\n",
    "        reward.append( - n_avail)\n",
    "            scalar.append(torch.tensor(0))\n",
    "        bit_info.append(bitstring)\n",
    "        n_demos += 1\n",
    "    "
   ]
  },
  {
   "cell_type": "code",
   "execution_count": 124,
   "id": "9c8e5a09",
   "metadata": {},
   "outputs": [
    {
     "name": "stdout",
     "output_type": "stream",
     "text": [
      "448\n"
     ]
    }
   ],
   "source": [
    "print(n_demos)"
   ]
  },
  {
   "cell_type": "code",
   "execution_count": 118,
   "id": "9c5234f3",
   "metadata": {},
   "outputs": [
    {
     "name": "stdout",
     "output_type": "stream",
     "text": [
      "127\n"
     ]
    }
   ],
   "source": [
    "print(len(set(bit_info)))"
   ]
  },
  {
   "cell_type": "code",
   "execution_count": 119,
   "id": "47dc78b8",
   "metadata": {},
   "outputs": [
    {
     "data": {
      "text/plain": [
       "['1111001',\n",
       " '1111010',\n",
       " '1111010',\n",
       " '1111011',\n",
       " '1111100',\n",
       " '1111100',\n",
       " '1111101',\n",
       " '1111110']"
      ]
     },
     "execution_count": 119,
     "metadata": {},
     "output_type": "execute_result"
    }
   ],
   "source": [
    "bit_info[-8:]"
   ]
  },
  {
   "cell_type": "code",
   "execution_count": 120,
   "id": "096666a8",
   "metadata": {},
   "outputs": [
    {
     "name": "stdout",
     "output_type": "stream",
     "text": [
      "[-3, -2, -2, -2, -2, -1, -2, -2, -1, -1]\n"
     ]
    }
   ],
   "source": [
    "print(reward[-10:])"
   ]
  },
  {
   "cell_type": "code",
   "execution_count": 122,
   "id": "d6fe3683",
   "metadata": {},
   "outputs": [
    {
     "data": {
      "text/plain": [
       "[tensor([ 0,  1,  0, -1,  0,  0,  1,  1,  1,  0,  0,  0]),\n",
       " tensor([ 1,  1,  0,  0,  0,  0,  0,  1, -1,  1,  0,  0]),\n",
       " tensor([-1,  0,  1,  0,  1,  1,  0,  0,  0,  0,  0,  1]),\n",
       " tensor([ 1,  1,  0,  0,  0,  0,  0,  1, -1,  1,  0,  0]),\n",
       " tensor([ 0,  1,  0, -1,  0,  0,  1,  1,  1,  0,  0,  0]),\n",
       " tensor([ 1,  1,  0,  0,  0,  0,  0,  1, -1,  1,  0,  0]),\n",
       " tensor([-1,  0,  1,  0,  1,  1,  0,  0,  0,  0,  0,  1]),\n",
       " tensor([ 0,  1,  0, -1,  0,  0,  1,  1,  1,  0,  0,  0]),\n",
       " tensor([-1,  0,  1,  0,  1,  1,  0,  0,  0,  0,  0,  1]),\n",
       " tensor([ 0,  1,  0, -1,  0,  0,  1,  1,  1,  0,  0,  0])]"
      ]
     },
     "execution_count": 122,
     "metadata": {},
     "output_type": "execute_result"
    }
   ],
   "source": [
    "target_action[-10:]"
   ]
  },
  {
   "cell_type": "code",
   "execution_count": 112,
   "id": "26806fed",
   "metadata": {},
   "outputs": [
    {
     "data": {
      "text/plain": [
       "tensor(True)"
      ]
     },
     "execution_count": 112,
     "metadata": {},
     "output_type": "execute_result"
    }
   ],
   "source": [
    "torch.all(torch.eq(state_tensor[-6], state_tensor[-7]))"
   ]
  },
  {
   "cell_type": "code",
   "execution_count": 43,
   "id": "af85e06b",
   "metadata": {},
   "outputs": [
    {
     "name": "stdout",
     "output_type": "stream",
     "text": [
      "tensor([[[1, 0, 0, 1],\n",
      "         [0, 0, 0, 0],\n",
      "         [0, 0, 0, 0],\n",
      "         [1, 0, 0, 1]],\n",
      "\n",
      "        [[0, 0, 0, 0],\n",
      "         [0, 0, 0, 0],\n",
      "         [0, 0, 0, 0],\n",
      "         [0, 0, 0, 0]],\n",
      "\n",
      "        [[0, 0, 0, 0],\n",
      "         [0, 0, 0, 0],\n",
      "         [0, 0, 0, 0],\n",
      "         [0, 0, 0, 0]],\n",
      "\n",
      "        [[1, 0, 0, 1],\n",
      "         [0, 0, 0, 0],\n",
      "         [0, 0, 0, 0],\n",
      "         [1, 0, 0, 1]]])\n"
     ]
    }
   ],
   "source": [
    "uu = uu_strassen[0]\n",
    "vv = vv_strassen[0]\n",
    "ww = ww_strassen[0]\n",
    "tensor_update = (\n",
    "    uu.view(-1, 1, 1) * vv.view(1, -1, 1) * ww.view(1, 1, -1)\n",
    ")\n",
    "print(tensor_update)"
   ]
  },
  {
   "cell_type": "code",
   "execution_count": null,
   "id": "be569de9",
   "metadata": {},
   "outputs": [],
   "source": [
    "uu = uu_strassen[0]\n",
    "vv = vv_strassen[0]\n",
    "ww = ww_strassen[0]\n",
    "tensor_update = (\n",
    "    uu.view(-1, 1, 1) * vv.view(1, -1, 1) * ww.view(1, 1, -1)\n",
    ")\n",
    "print(tensor_update)"
   ]
  },
  {
   "cell_type": "code",
   "execution_count": 55,
   "id": "4826e50e",
   "metadata": {
    "collapsed": true
   },
   "outputs": [
    {
     "name": "stdout",
     "output_type": "stream",
     "text": [
      "tensor([[[1, 0, 0, 1],\n",
      "         [0, 0, 0, 0],\n",
      "         [0, 0, 0, 0],\n",
      "         [1, 0, 0, 1]],\n",
      "\n",
      "        [[0, 0, 0, 0],\n",
      "         [0, 0, 0, 0],\n",
      "         [0, 0, 0, 0],\n",
      "         [0, 0, 0, 0]],\n",
      "\n",
      "        [[0, 0, 0, 0],\n",
      "         [0, 0, 0, 0],\n",
      "         [0, 0, 0, 0],\n",
      "         [0, 0, 0, 0]],\n",
      "\n",
      "        [[1, 0, 0, 1],\n",
      "         [0, 0, 0, 0],\n",
      "         [0, 0, 0, 0],\n",
      "         [1, 0, 0, 1]]])\n"
     ]
    }
   ],
   "source": [
    "mul_tensor = torch.zeros((4, 4, 4), device=device)\n",
    "mul_tensor += torch.einsum(\"p,qr->pqr\", uu, torch.outer(vv, ww))    \n",
    "mul_tensor = mul_tensor.long()\n",
    "# print(mul_tensor.long())\n"
   ]
  },
  {
   "cell_type": "code",
   "execution_count": 57,
   "id": "42d353c3",
   "metadata": {},
   "outputs": [
    {
     "data": {
      "text/plain": [
       "tensor(True)"
      ]
     },
     "execution_count": 57,
     "metadata": {},
     "output_type": "execute_result"
    }
   ],
   "source": [
    "torch.all(torch.eq(tensor_update, mul_tensor))"
   ]
  },
  {
   "cell_type": "code",
   "execution_count": null,
   "id": "4d7f6ab7",
   "metadata": {},
   "outputs": [],
   "source": []
  }
 ],
 "metadata": {
  "kernelspec": {
   "display_name": "Python 3 (ipykernel)",
   "language": "python",
   "name": "python3"
  },
  "language_info": {
   "codemirror_mode": {
    "name": "ipython",
    "version": 3
   },
   "file_extension": ".py",
   "mimetype": "text/x-python",
   "name": "python",
   "nbconvert_exporter": "python",
   "pygments_lexer": "ipython3",
   "version": "3.10.9"
  }
 },
 "nbformat": 4,
 "nbformat_minor": 5
}
