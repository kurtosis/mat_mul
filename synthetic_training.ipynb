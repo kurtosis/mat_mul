{
 "cells": [
  {
   "cell_type": "code",
   "execution_count": 43,
   "id": "5aac778e",
   "metadata": {},
   "outputs": [],
   "source": [
    "from math import ceil\n",
    "\n",
    "import pandas as pd\n",
    "\n",
    "import torch\n",
    "from torch import nn\n",
    "from torch.nn import functional as F\n",
    "from torch.distributions.categorical import Categorical\n",
    "\n",
    "device = \"cpu\""
   ]
  },
  {
   "cell_type": "code",
   "execution_count": 4,
   "id": "ba8a2e75",
   "metadata": {},
   "outputs": [],
   "source": [
    "from synthetic_examples import *\n",
    "from data_generation import *\n",
    "from torch.distributions.categorical import Categorical"
   ]
  },
  {
   "cell_type": "code",
   "execution_count": 37,
   "id": "ce1a0233",
   "metadata": {},
   "outputs": [],
   "source": [
    "distrib = Categorical(torch.tensor([0.33, 0.33, 0.33]))"
   ]
  },
  {
   "cell_type": "code",
   "execution_count": 40,
   "id": "6e3b7b13",
   "metadata": {},
   "outputs": [
    {
     "data": {
      "text/plain": [
       "tensor([  15,  200,  200,   15, -100,   15,  200, -100])"
      ]
     },
     "execution_count": 40,
     "metadata": {},
     "output_type": "execute_result"
    }
   ],
   "source": [
    "idx = distrib.sample(torch.Size([8]))\n",
    "f_vals = torch.tensor([-100,15,200])\n",
    "f_vals[idx]"
   ]
  },
  {
   "cell_type": "code",
   "execution_count": 54,
   "id": "bd70fe5c",
   "metadata": {},
   "outputs": [],
   "source": [
    "def factor_sample(size, values = [-1, 0, 1], probs = [0.15, 0.7, 0.15]):\n",
    "    vals = torch.tensor(values)\n",
    "    distrib = Categorical(torch.tensor(probs))\n",
    "    idx_sample = distrib.sample(torch.Size([size]))\n",
    "    return vals[idx_sample]"
   ]
  },
  {
   "cell_type": "code",
   "execution_count": 59,
   "id": "44671e7f",
   "metadata": {},
   "outputs": [],
   "source": [
    "sdd = "
   ]
  },
  {
   "cell_type": "code",
   "execution_count": 57,
   "id": "328e44ab",
   "metadata": {},
   "outputs": [
    {
     "data": {
      "text/plain": [
       "0.6363636363636364"
      ]
     },
     "execution_count": 57,
     "metadata": {},
     "output_type": "execute_result"
    }
   ],
   "source": [
    "7/11"
   ]
  },
  {
   "cell_type": "code",
   "execution_count": 60,
   "id": "47a6a68a",
   "metadata": {},
   "outputs": [
    {
     "data": {
      "text/plain": [
       " 0    6410\n",
       " 1    1831\n",
       "-1    1759\n",
       "dtype: int64"
      ]
     },
     "execution_count": 60,
     "metadata": {},
     "output_type": "execute_result"
    }
   ],
   "source": [
    "ff.value_counts()"
   ]
  },
  {
   "cell_type": "code",
   "execution_count": null,
   "id": "f8d6277d",
   "metadata": {},
   "outputs": [],
   "source": [
    "synth_data = SyntheticDemoDataset(1, 1000, 1, 4)"
   ]
  }
 ],
 "metadata": {
  "kernelspec": {
   "display_name": "Python 3 (ipykernel)",
   "language": "python",
   "name": "python3"
  },
  "language_info": {
   "codemirror_mode": {
    "name": "ipython",
    "version": 3
   },
   "file_extension": ".py",
   "mimetype": "text/x-python",
   "name": "python",
   "nbconvert_exporter": "python",
   "pygments_lexer": "ipython3",
   "version": "3.10.9"
  }
 },
 "nbformat": 4,
 "nbformat_minor": 5
}
